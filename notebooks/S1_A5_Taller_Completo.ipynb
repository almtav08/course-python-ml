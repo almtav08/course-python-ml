{
 "cells": [
  {
   "cell_type": "markdown",
   "id": "7dfd29d3",
   "metadata": {},
   "source": [
    "# Sesión 1 - Apartado 5: Taller completo\n",
    "\n",
    "En este taller aplicaremos todo lo aprendido hasta ahora:\n",
    "\n",
    "- Limpieza de datos.\n",
    "- Preprocesamiento de variables numéricas y categóricas.\n",
    "- Ingeniería de características.\n",
    "- Construcción de un pipeline completo.\n",
    "- Evaluación inicial del modelo.\n"
   ]
  },
  {
   "cell_type": "code",
   "execution_count": null,
   "id": "cd729ea2",
   "metadata": {},
   "outputs": [],
   "source": [
    "import pandas as pd\n",
    "import numpy as np\n",
    "\n",
    "import matplotlib.pyplot as plt\n",
    "import seaborn as sns\n",
    "\n",
    "from sklearn.base import BaseEstimator, TransformerMixin\n",
    "\n",
    "from sklearn.pipeline import Pipeline\n",
    "from sklearn.compose import ColumnTransformer\n",
    "from sklearn.impute import SimpleImputer\n",
    "from sklearn.preprocessing import StandardScaler, OneHotEncoder\n",
    "from sklearn.linear_model import LogisticRegression\n",
    "\n",
    "import joblib"
   ]
  },
  {
   "cell_type": "markdown",
   "id": "5b998c93",
   "metadata": {},
   "source": [
    "## 1. Carga de datos y visualización\n",
    "\n",
    "- Usaremos el dataset `../data/raw/mini_titanic.csv` (columnas: sex, class, age, fare, survived).\n",
    "- Carga el CSV con pandas y echa un vistazo con `head()` y `info()`."
   ]
  },
  {
   "cell_type": "code",
   "execution_count": null,
   "id": "a350d65a",
   "metadata": {},
   "outputs": [],
   "source": [
    "# Dataset\n",
    "# TODO: Carga el dataset mini_titanic\n",
    "df = None\n",
    "\n",
    "# TODO: Visualiza las primeras filas\n",
    "\n",
    "# TODO (opcional): Revisa tipos y nulos rápidos"
   ]
  },
  {
   "cell_type": "code",
   "execution_count": null,
   "id": "b63f89ba",
   "metadata": {},
   "outputs": [],
   "source": [
    "# Visualización de datos\n",
    "\n",
    "#TODO: Visualiza la distribución de 'age' y 'fare' con histogramas\n",
    "\n",
    "#TODO: Visualiza la relación entre 'age' y 'fare' con un scatter plot, coloreado por 'survived'\n"
   ]
  },
  {
   "cell_type": "markdown",
   "id": "dd85a9d3",
   "metadata": {},
   "source": [
    "## 2. Preparación del dataset\n",
    "\n",
    "- Define las variables de entrada X y la variable objetivo y.\n",
    "- Usa columnas numéricas y categóricas: ['age','fare'] y ['sex','class'] respectivamente.\n",
    "- Objetivo: 'survived'."
   ]
  },
  {
   "cell_type": "code",
   "execution_count": null,
   "id": "320f4001",
   "metadata": {},
   "outputs": [],
   "source": [
    "# TODO: Define columnas y separa X e y\n",
    "# Pista:\n",
    "# target = 'survived'\n",
    "# feature_cols = ['age','fare','sex','class']\n",
    "\n",
    "X = None\n",
    "y = None"
   ]
  },
  {
   "cell_type": "markdown",
   "id": "3dbecabc",
   "metadata": {},
   "source": [
    "## 3. Ingeniería de características personalizada\n",
    "\n",
    "- Crea un transformador `FeatureEngineer` que añada features simples basadas en columnas existentes.\n",
    "- Ideas (elige 1-2):\n",
    "  - `Age_Fare` = age * fare (interacción numérica)\n",
    "  - `Class_initial` = primera letra de `class`\n",
    "  - `Fare_log` = log1p(fare)\n",
    "- Implementa en el método `transform` y devuelve un DataFrame con las nuevas columnas."
   ]
  },
  {
   "cell_type": "code",
   "execution_count": null,
   "id": "dba6ace7",
   "metadata": {},
   "outputs": [],
   "source": [
    "# TODO: Implementa un transformador de ingeniería de características\n",
    "\n",
    "class FeatureEngineer(BaseEstimator, TransformerMixin):\n",
    "    def fit(self, X, y=None):\n",
    "        return self\n",
    "    \n",
    "    def transform(self, X):\n",
    "        X_ = X.copy()\n",
    "        # TODO: Crea 1-2 nuevas columnas. Ejemplos:\n",
    "        return X_"
   ]
  },
  {
   "cell_type": "markdown",
   "id": "72888dd3",
   "metadata": {},
   "source": [
    "## 4. Construcción del pipeline\n",
    "Incluye:\n",
    "- Imputación de nulos (numéricas: mediana; categóricas: más frecuente).\n",
    "- Escalado de numéricas con StandardScaler.\n",
    "- Codificación OneHot de categóricas con handle_unknown='ignore'.\n",
    "- Ingeniería de características personalizada.\n",
    "- Modelo final: LogisticRegression.\n",
    "\n",
    "Notas:\n",
    "- Columnas numéricas: `['age','fare']`\n",
    "- Columnas categóricas: `['sex','class', 'Class_initial' (si la creaste)]`"
   ]
  },
  {
   "cell_type": "code",
   "execution_count": null,
   "id": "a90a7726",
   "metadata": {},
   "outputs": [],
   "source": [
    "# TODO: Define columnas por tipo (usa nombres correctos)\n",
    "num_cols = []\n",
    "# Si agregaste 'Class_initial' en FeatureEngineer, inclúyela aquí\n",
    "cat_cols = []  # + ['Class_initial'] opcional\n",
    "\n",
    "num_transformer = None\n",
    "\n",
    "# TODO: Preprocesamiento categórico\n",
    "cat_transformer = None\n",
    "\n",
    "# TODO: ColumnTransformer\n",
    "preprocessor = None\n",
    "\n",
    "# TODO: Pipeline completo\n",
    "pipe = Pipeline(steps=[\n",
    "    ('feature_engineer', FeatureEngineer()),\n",
    "    # preprocessor\n",
    "    ('model', LogisticRegression(max_iter=1000))\n",
    "])"
   ]
  },
  {
   "cell_type": "markdown",
   "id": "9503ada3",
   "metadata": {},
   "source": [
    "## 5. Evaluación con conjunto de prueba\n",
    "\n",
    "- Separa train/test (20%) con `train_test_split`.\n",
    "- Considera `stratify=y` para clases balanceadas.\n",
    "- Entrena el pipeline y reporta `accuracy` en test.\n",
    "- Extiende con métricas extra (opcional): matriz de confusión y classification_report."
   ]
  },
  {
   "cell_type": "code",
   "execution_count": null,
   "id": "2996d097",
   "metadata": {},
   "outputs": [],
   "source": [
    "from sklearn.model_selection import train_test_split\n",
    "\n",
    "X_train, X_test, y_train, y_test = train_test_split(X, y, test_size=0.2, random_state=42)\n",
    "\n",
    "pipe.fit(X_train, y_train)\n",
    "print(\"Score en test:\", pipe.score(X_test, y_test))"
   ]
  },
  {
   "cell_type": "markdown",
   "id": "ece4e55c",
   "metadata": {},
   "source": [
    "## 6. Guardar y cargar el pipeline (opcional)\n",
    "\n",
    "- Guarda el pipeline entrenado con `joblib.dump` en `../data/processed/titanic_pipeline.joblib`.\n",
    "- Carga el pipeline y verifica el `score` en test.\n",
    "- Esto simula el flujo de producción (S1_A3)."
   ]
  },
  {
   "cell_type": "code",
   "execution_count": null,
   "id": "d7e5118c",
   "metadata": {},
   "outputs": [],
   "source": [
    "# TODO: Guardar el pipeline entrenado\n",
    "\n",
    "# TODO: Cargar el pipeline y evaluar"
   ]
  }
 ],
 "metadata": {
  "language_info": {
   "name": "python"
  }
 },
 "nbformat": 4,
 "nbformat_minor": 5
}
