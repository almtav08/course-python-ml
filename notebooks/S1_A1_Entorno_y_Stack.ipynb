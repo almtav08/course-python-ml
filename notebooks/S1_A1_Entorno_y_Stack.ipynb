{
 "cells": [
  {
   "cell_type": "markdown",
   "id": "a07fa108",
   "metadata": {},
   "source": [
    "# Sesión 1 – Apartado 1: Entorno profesional y *Stack* habitual\n",
    "\n",
    "**Duración recomendada:** 20–30 min  \n",
    "**Objetivos:**\n",
    "- Conocer el *stack* típico de ciencia de datos con Python.\n",
    "- Preparar un entorno reproducible y una estructura de proyecto.\n",
    "- Cargar un dataset y realizar una EDA inicial con gráficos sencillos.\n",
    "\n",
    "> Fecha de generación del cuaderno: 2025-09-09 11:11:19"
   ]
  },
  {
   "cell_type": "markdown",
   "id": "2413f522",
   "metadata": {},
   "source": [
    "## 1) Stack habitual\n",
    "\n",
    "Usaremos las siguientes librerías:\n",
    "\n",
    "- `pandas` para manipulación de datos\n",
    "- `numpy` para operaciones numéricas\n",
    "- `scikit-learn` para *ML* y *pipelines*\n",
    "- `matplotlib` para visualización básica\n",
    "- `seaborn` (opcional) para visualizaciones de alto nivel\n",
    "\n",
    "💡 Recomendación: usar un entorno virtual (conda/venv) y un fichero `requirements.txt`."
   ]
  },
  {
   "cell_type": "code",
   "execution_count": 1,
   "id": "ebab62cf",
   "metadata": {},
   "outputs": [
    {
     "name": "stdout",
     "output_type": "stream",
     "text": [
      "Python: 3.11.13 | packaged by Anaconda, Inc. | (main, Jun  5 2025, 13:03:15) [MSC v.1929 64 bit (AMD64)]\n",
      "numpy: 2.3.2\n",
      "pandas: 2.3.2\n",
      "matplotlib: 3.10.6\n",
      "seaborn: 0.13.2\n",
      "scikit-learn: 1.7.2\n"
     ]
    }
   ],
   "source": [
    "import sys\n",
    "import numpy as np\n",
    "import pandas as pd\n",
    "import matplotlib.pyplot as plt\n",
    "import seaborn as sns\n",
    "import sklearn\n",
    "\n",
    "print('Python:', sys.version)\n",
    "print('numpy:', np.__version__)\n",
    "print('pandas:', pd.__version__)\n",
    "print('matplotlib:', plt.matplotlib.__version__)\n",
    "print('seaborn:', sns.__version__)\n",
    "print('scikit-learn:', sklearn.__version__)"
   ]
  },
  {
   "cell_type": "markdown",
   "id": "e34d3e09",
   "metadata": {},
   "source": [
    "## 2) Estructura de proyecto recomendada\n",
    "\n",
    "```\n",
    "project/\n",
    "├─ data/\n",
    "│  ├─ raw/\n",
    "│  └─ processed/\n",
    "├─ notebooks/\n",
    "├─ src/\n",
    "│  ├─ __init__.py\n",
    "│  └─ utils.py\n",
    "├─ models/\n",
    "├─ reports/\n",
    "├─ requirements.txt\n",
    "└─ README.md\n",
    "```\n",
    "Mantén los *notebooks* limpios y usa funciones en `src/` para lógica reutilizable."
   ]
  },
  {
   "cell_type": "markdown",
   "id": "8642de62",
   "metadata": {},
   "source": [
    "## 3) Carga de datos\n",
    "\n",
    "Usaremos un dataset sintético tipo *Titanic*, ya guardado en `data/mini_titanic.csv`.\n",
    "Incluye columnas numéricas y categóricas con valores nulos para practicar imputación y codificación."
   ]
  },
  {
   "cell_type": "code",
   "execution_count": 4,
   "id": "14521421",
   "metadata": {},
   "outputs": [
    {
     "data": {
      "text/html": [
       "<div>\n",
       "<style scoped>\n",
       "    .dataframe tbody tr th:only-of-type {\n",
       "        vertical-align: middle;\n",
       "    }\n",
       "\n",
       "    .dataframe tbody tr th {\n",
       "        vertical-align: top;\n",
       "    }\n",
       "\n",
       "    .dataframe thead th {\n",
       "        text-align: right;\n",
       "    }\n",
       "</style>\n",
       "<table border=\"1\" class=\"dataframe\">\n",
       "  <thead>\n",
       "    <tr style=\"text-align: right;\">\n",
       "      <th></th>\n",
       "      <th>sex</th>\n",
       "      <th>class</th>\n",
       "      <th>age</th>\n",
       "      <th>fare</th>\n",
       "      <th>survived</th>\n",
       "    </tr>\n",
       "  </thead>\n",
       "  <tbody>\n",
       "    <tr>\n",
       "      <th>0</th>\n",
       "      <td>male</td>\n",
       "      <td>Third</td>\n",
       "      <td>34.352706</td>\n",
       "      <td>119.00</td>\n",
       "      <td>0</td>\n",
       "    </tr>\n",
       "    <tr>\n",
       "      <th>1</th>\n",
       "      <td>female</td>\n",
       "      <td>Second</td>\n",
       "      <td>50.654987</td>\n",
       "      <td>66.77</td>\n",
       "      <td>0</td>\n",
       "    </tr>\n",
       "    <tr>\n",
       "      <th>2</th>\n",
       "      <td>male</td>\n",
       "      <td>First</td>\n",
       "      <td>42.007235</td>\n",
       "      <td>21.87</td>\n",
       "      <td>0</td>\n",
       "    </tr>\n",
       "    <tr>\n",
       "      <th>3</th>\n",
       "      <td>male</td>\n",
       "      <td>Second</td>\n",
       "      <td>27.760861</td>\n",
       "      <td>NaN</td>\n",
       "      <td>0</td>\n",
       "    </tr>\n",
       "    <tr>\n",
       "      <th>4</th>\n",
       "      <td>male</td>\n",
       "      <td>Third</td>\n",
       "      <td>29.733773</td>\n",
       "      <td>212.45</td>\n",
       "      <td>0</td>\n",
       "    </tr>\n",
       "  </tbody>\n",
       "</table>\n",
       "</div>"
      ],
      "text/plain": [
       "      sex   class        age    fare  survived\n",
       "0    male   Third  34.352706  119.00         0\n",
       "1  female  Second  50.654987   66.77         0\n",
       "2    male   First  42.007235   21.87         0\n",
       "3    male  Second  27.760861     NaN         0\n",
       "4    male   Third  29.733773  212.45         0"
      ]
     },
     "execution_count": 4,
     "metadata": {},
     "output_type": "execute_result"
    }
   ],
   "source": [
    "df = pd.read_csv('../data/raw/mini_titanic.csv')\n",
    "df.head()"
   ]
  },
  {
   "cell_type": "markdown",
   "id": "a100ce2e",
   "metadata": {},
   "source": [
    "## 4) Auditoría rápida de calidad de datos"
   ]
  },
  {
   "cell_type": "code",
   "execution_count": 5,
   "id": "8838a2a4",
   "metadata": {},
   "outputs": [
    {
     "name": "stdout",
     "output_type": "stream",
     "text": [
      "<class 'pandas.core.frame.DataFrame'>\n",
      "RangeIndex: 300 entries, 0 to 299\n",
      "Data columns (total 5 columns):\n",
      " #   Column    Non-Null Count  Dtype  \n",
      "---  ------    --------------  -----  \n",
      " 0   sex       300 non-null    object \n",
      " 1   class     285 non-null    object \n",
      " 2   age       265 non-null    float64\n",
      " 3   fare      280 non-null    float64\n",
      " 4   survived  300 non-null    int64  \n",
      "dtypes: float64(2), int64(1), object(2)\n",
      "memory usage: 11.8+ KB\n"
     ]
    }
   ],
   "source": [
    "df.info()"
   ]
  },
  {
   "cell_type": "code",
   "execution_count": 6,
   "id": "0192db4a",
   "metadata": {},
   "outputs": [
    {
     "data": {
      "text/html": [
       "<div>\n",
       "<style scoped>\n",
       "    .dataframe tbody tr th:only-of-type {\n",
       "        vertical-align: middle;\n",
       "    }\n",
       "\n",
       "    .dataframe tbody tr th {\n",
       "        vertical-align: top;\n",
       "    }\n",
       "\n",
       "    .dataframe thead th {\n",
       "        text-align: right;\n",
       "    }\n",
       "</style>\n",
       "<table border=\"1\" class=\"dataframe\">\n",
       "  <thead>\n",
       "    <tr style=\"text-align: right;\">\n",
       "      <th></th>\n",
       "      <th>sex</th>\n",
       "      <th>class</th>\n",
       "      <th>age</th>\n",
       "      <th>fare</th>\n",
       "      <th>survived</th>\n",
       "    </tr>\n",
       "  </thead>\n",
       "  <tbody>\n",
       "    <tr>\n",
       "      <th>count</th>\n",
       "      <td>300</td>\n",
       "      <td>285</td>\n",
       "      <td>265.000000</td>\n",
       "      <td>280.000000</td>\n",
       "      <td>300.000000</td>\n",
       "    </tr>\n",
       "    <tr>\n",
       "      <th>unique</th>\n",
       "      <td>2</td>\n",
       "      <td>3</td>\n",
       "      <td>NaN</td>\n",
       "      <td>NaN</td>\n",
       "      <td>NaN</td>\n",
       "    </tr>\n",
       "    <tr>\n",
       "      <th>top</th>\n",
       "      <td>male</td>\n",
       "      <td>Third</td>\n",
       "      <td>NaN</td>\n",
       "      <td>NaN</td>\n",
       "      <td>NaN</td>\n",
       "    </tr>\n",
       "    <tr>\n",
       "      <th>freq</th>\n",
       "      <td>151</td>\n",
       "      <td>155</td>\n",
       "      <td>NaN</td>\n",
       "      <td>NaN</td>\n",
       "      <td>NaN</td>\n",
       "    </tr>\n",
       "    <tr>\n",
       "      <th>mean</th>\n",
       "      <td>NaN</td>\n",
       "      <td>NaN</td>\n",
       "      <td>29.755908</td>\n",
       "      <td>38.931250</td>\n",
       "      <td>0.213333</td>\n",
       "    </tr>\n",
       "    <tr>\n",
       "      <th>std</th>\n",
       "      <td>NaN</td>\n",
       "      <td>NaN</td>\n",
       "      <td>14.370522</td>\n",
       "      <td>34.615436</td>\n",
       "      <td>0.410346</td>\n",
       "    </tr>\n",
       "    <tr>\n",
       "      <th>min</th>\n",
       "      <td>NaN</td>\n",
       "      <td>NaN</td>\n",
       "      <td>0.000000</td>\n",
       "      <td>3.250000</td>\n",
       "      <td>0.000000</td>\n",
       "    </tr>\n",
       "    <tr>\n",
       "      <th>25%</th>\n",
       "      <td>NaN</td>\n",
       "      <td>NaN</td>\n",
       "      <td>19.166951</td>\n",
       "      <td>17.390000</td>\n",
       "      <td>0.000000</td>\n",
       "    </tr>\n",
       "    <tr>\n",
       "      <th>50%</th>\n",
       "      <td>NaN</td>\n",
       "      <td>NaN</td>\n",
       "      <td>30.073412</td>\n",
       "      <td>29.120000</td>\n",
       "      <td>0.000000</td>\n",
       "    </tr>\n",
       "    <tr>\n",
       "      <th>75%</th>\n",
       "      <td>NaN</td>\n",
       "      <td>NaN</td>\n",
       "      <td>39.161119</td>\n",
       "      <td>46.772500</td>\n",
       "      <td>0.000000</td>\n",
       "    </tr>\n",
       "    <tr>\n",
       "      <th>max</th>\n",
       "      <td>NaN</td>\n",
       "      <td>NaN</td>\n",
       "      <td>73.104331</td>\n",
       "      <td>222.720000</td>\n",
       "      <td>1.000000</td>\n",
       "    </tr>\n",
       "  </tbody>\n",
       "</table>\n",
       "</div>"
      ],
      "text/plain": [
       "         sex  class         age        fare    survived\n",
       "count    300    285  265.000000  280.000000  300.000000\n",
       "unique     2      3         NaN         NaN         NaN\n",
       "top     male  Third         NaN         NaN         NaN\n",
       "freq     151    155         NaN         NaN         NaN\n",
       "mean     NaN    NaN   29.755908   38.931250    0.213333\n",
       "std      NaN    NaN   14.370522   34.615436    0.410346\n",
       "min      NaN    NaN    0.000000    3.250000    0.000000\n",
       "25%      NaN    NaN   19.166951   17.390000    0.000000\n",
       "50%      NaN    NaN   30.073412   29.120000    0.000000\n",
       "75%      NaN    NaN   39.161119   46.772500    0.000000\n",
       "max      NaN    NaN   73.104331  222.720000    1.000000"
      ]
     },
     "execution_count": 6,
     "metadata": {},
     "output_type": "execute_result"
    }
   ],
   "source": [
    "df.describe(include='all')"
   ]
  },
  {
   "cell_type": "code",
   "execution_count": 7,
   "id": "e4913068",
   "metadata": {},
   "outputs": [
    {
     "data": {
      "text/plain": [
       "age         35\n",
       "fare        20\n",
       "class       15\n",
       "sex          0\n",
       "survived     0\n",
       "dtype: int64"
      ]
     },
     "execution_count": 7,
     "metadata": {},
     "output_type": "execute_result"
    }
   ],
   "source": [
    "# Conteo de nulos por columna\n",
    "df.isna().sum().sort_values(ascending=False)"
   ]
  },
  {
   "cell_type": "markdown",
   "id": "fd282273",
   "metadata": {},
   "source": [
    "## 5) Visualizaciones rápidas (matplotlib)"
   ]
  },
  {
   "cell_type": "code",
   "execution_count": 8,
   "id": "45a0c095",
   "metadata": {},
   "outputs": [
    {
     "data": {
      "image/png": "[encoded data removed]",
      "text/plain": [
       "<Figure size 640x480 with 1 Axes>"
      ]
     },
     "metadata": {},
     "output_type": "display_data"
    }
   ],
   "source": [
    "# Histograma de edades\n",
    "plt.figure()\n",
    "df['age'].plot(kind='hist', bins=20, title='Distribución de edad')\n",
    "plt.xlabel('Edad')\n",
    "plt.show()"
   ]
  },
  {
   "cell_type": "code",
   "execution_count": 9,
   "id": "caf7dbe6",
   "metadata": {},
   "outputs": [
    {
     "data": {
      "image/png": "[encoded data removed]",
      "text/plain": [
       "<Figure size 640x480 with 1 Axes>"
      ]
     },
     "metadata": {},
     "output_type": "display_data"
    }
   ],
   "source": [
    "# Conteo por clase (First/Second/Third)\n",
    "plt.figure()\n",
    "df['class'].value_counts(dropna=False).plot(kind='bar', title='Frecuencia por clase')\n",
    "plt.xlabel('Clase')\n",
    "plt.ylabel('Frecuencia')\n",
    "plt.show()"
   ]
  },
  {
   "cell_type": "code",
   "execution_count": 10,
   "id": "7a0eeafa",
   "metadata": {},
   "outputs": [
    {
     "data": {
      "image/png": "[encoded data removed]",
      "text/plain": [
       "<Figure size 640x480 with 1 Axes>"
      ]
     },
     "metadata": {},
     "output_type": "display_data"
    }
   ],
   "source": [
    "# Supervivencia por sexo (media de survived por categoría)\n",
    "plt.figure()\n",
    "df.groupby('sex')['survived'].mean().plot(kind='bar', title='Tasa media de supervivencia por sexo')\n",
    "plt.ylabel('Tasa de supervivencia')\n",
    "plt.show()"
   ]
  },
  {
   "cell_type": "markdown",
   "id": "473223c6",
   "metadata": {},
   "source": [
    "## 6) Ejercicios\n",
    "\n",
    "1. Crea un fichero `requirements.txt` con las versiones impresas más arriba.\n",
    "2. Mueve este *notebook* a una carpeta `notebooks/` y el CSV a `data/raw/`.\n",
    "3. Identifica columnas con valores nulos y propone estrategias de imputación para cada una.\n",
    "4. Añade al final una celda de *EDA* con al menos 2 gráficos adicionales sobre el dataset.\n",
    "\n",
    "**Sugerencias:**\n",
    "- Piensa qué gráficos son adecuados para cada tipo de variable (numérica vs categórica).\n",
    "- Asegúrate de documentar tus decisiones en celdas Markdown."
   ]
  }
 ],
 "metadata": {
  "kernelspec": {
   "display_name": "venv",
   "language": "python",
   "name": "python3"
  },
  "language_info": {
   "codemirror_mode": {
    "name": "ipython",
    "version": 3
   },
   "file_extension": ".py",
   "mimetype": "text/x-python",
   "name": "python",
   "nbconvert_exporter": "python",
   "pygments_lexer": "ipython3",
   "version": "3.11.13"
  }
 },
 "nbformat": 4,
 "nbformat_minor": 5
}
