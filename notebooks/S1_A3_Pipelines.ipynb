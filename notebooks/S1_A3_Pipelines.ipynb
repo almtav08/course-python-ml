{
 "cells": [
  {
   "cell_type": "markdown",
   "id": "360c9db7",
   "metadata": {},
   "source": [
    "# Sesión 1 – Apartado 3: Pipelines en Scikit-learn\n",
    "\n",
    "**Duración recomendada:** ~50 min\n",
    "\n",
    "**Objetivos:**\n",
    "- Comprender el uso de `Pipeline` y `ColumnTransformer`.\n",
    "- Encadenar preprocesamiento y modelos.\n",
    "- Facilitar reproducibilidad y despliegue.\n"
   ]
  },
  {
   "cell_type": "markdown",
   "id": "51a16bbd",
   "metadata": {},
   "source": [
    "## 1) Cargar el dataset"
   ]
  },
  {
   "cell_type": "code",
   "execution_count": null,
   "id": "a6fb16be",
   "metadata": {},
   "outputs": [],
   "source": [
    "import pandas as pd\n",
    "df = pd.read_csv('data/mini_titanic.csv')\n",
    "df.head()"
   ]
  },
  {
   "cell_type": "markdown",
   "id": "ab84a0ea",
   "metadata": {},
   "source": [
    "## 2) Definir variables numéricas y categóricas"
   ]
  },
  {
   "cell_type": "code",
   "execution_count": null,
   "id": "5a3dc66b",
   "metadata": {},
   "outputs": [],
   "source": [
    "num_cols = ['age', 'fare']\n",
    "cat_cols = ['sex', 'class']\n",
    "target = 'survived'\n",
    "\n",
    "X = df[num_cols + cat_cols]\n",
    "y = df[target]"
   ]
  },
  {
   "cell_type": "markdown",
   "id": "d6455502",
   "metadata": {},
   "source": [
    "## 3) ColumnTransformer"
   ]
  },
  {
   "cell_type": "code",
   "execution_count": null,
   "id": "3265a80a",
   "metadata": {},
   "outputs": [],
   "source": [
    "from sklearn.compose import ColumnTransformer\n",
    "from sklearn.pipeline import Pipeline\n",
    "from sklearn.preprocessing import SimpleImputer, StandardScaler, OneHotEncoder\n",
    "from sklearn.linear_model import LogisticRegression\n",
    "\n",
    "# Pipeline numérico\n",
    "num_pipe = Pipeline([\n",
    "    ('imputer', SimpleImputer(strategy='mean')),\n",
    "    ('scaler', StandardScaler())\n",
    "])\n",
    "\n",
    "# Pipeline categórico\n",
    "cat_pipe = Pipeline([\n",
    "    ('imputer', SimpleImputer(strategy='most_frequent')),\n",
    "    ('encoder', OneHotEncoder(handle_unknown='ignore'))\n",
    "])\n",
    "\n",
    "# ColumnTransformer\n",
    "preprocessor = ColumnTransformer([\n",
    "    ('num', num_pipe, num_cols),\n",
    "    ('cat', cat_pipe, cat_cols)\n",
    "])\n",
    "\n",
    "preprocessor"
   ]
  },
  {
   "cell_type": "markdown",
   "id": "e8f25354",
   "metadata": {},
   "source": [
    "## 4) Pipeline completo con modelo"
   ]
  },
  {
   "cell_type": "code",
   "execution_count": null,
   "id": "0cf96b3b",
   "metadata": {},
   "outputs": [],
   "source": [
    "clf = Pipeline([\n",
    "    ('preprocessor', preprocessor),\n",
    "    ('model', LogisticRegression(max_iter=500))\n",
    "])\n",
    "\n",
    "from sklearn.model_selection import train_test_split\n",
    "X_train, X_test, y_train, y_test = train_test_split(X, y, test_size=0.2, random_state=42, stratify=y)\n",
    "\n",
    "clf.fit(X_train, y_train)\n",
    "print('Accuracy en test:', clf.score(X_test, y_test))"
   ]
  },
  {
   "cell_type": "markdown",
   "id": "761e54f5",
   "metadata": {},
   "source": [
    "## 5) Inspeccionar el pipeline"
   ]
  },
  {
   "cell_type": "code",
   "execution_count": null,
   "id": "1a2893d5",
   "metadata": {},
   "outputs": [],
   "source": [
    "print(clf.named_steps)\n",
    "print('\\nTransformaciones aplicadas a un batch de datos:')\n",
    "import numpy as np\n",
    "Xt = clf.named_steps['preprocessor'].transform(X_train)\n",
    "print('Shape transformado:', Xt.shape)\n"
   ]
  },
  {
   "cell_type": "markdown",
   "id": "94fc5273",
   "metadata": {},
   "source": [
    "## 6) Guardar y cargar un pipeline entrenado"
   ]
  },
  {
   "cell_type": "code",
   "execution_count": null,
   "id": "606b9a05",
   "metadata": {},
   "outputs": [],
   "source": [
    "import joblib\n",
    "\n",
    "# Guardar\n",
    "joblib.dump(clf, 'data/titanic_pipeline.joblib')\n",
    "\n",
    "# Cargar\n",
    "clf_loaded = joblib.load('data/titanic_pipeline.joblib')\n",
    "print('Accuracy cargado:', clf_loaded.score(X_test, y_test))"
   ]
  },
  {
   "cell_type": "markdown",
   "id": "c0f7fa13",
   "metadata": {},
   "source": [
    "## 7) Ejercicios\n",
    "\n",
    "1. Sustituye el modelo `LogisticRegression` por un `RandomForestClassifier` dentro del pipeline.\n",
    "2. Cambia la estrategia de imputación de los numéricos de `mean` a `median` y evalúa el impacto.\n",
    "3. Añade un paso opcional de reducción dimensional con `PCA` después del preprocesamiento.\n",
    "4. Discute: ¿qué ventajas tiene usar `Pipeline` frente a aplicar cada paso manualmente?\n"
   ]
  }
 ],
 "metadata": {},
 "nbformat": 4,
 "nbformat_minor": 5
}
