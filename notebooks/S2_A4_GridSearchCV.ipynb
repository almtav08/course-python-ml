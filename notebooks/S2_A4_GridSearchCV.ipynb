{
 "cells": [
  {
   "cell_type": "markdown",
   "id": "16664e2e",
   "metadata": {},
   "source": [
    "# Sesión 2 Apartado 4: GridSearchCV\n",
    "\n",
    "Objetivo: Ajuste de hiperparámetros con GridSearchCV, interpretación y buenas prácticas."
   ]
  },
  {
   "cell_type": "code",
   "execution_count": 1,
   "id": "a91ef2cc",
   "metadata": {},
   "outputs": [],
   "source": [
    "import numpy as np\n",
    "from sklearn.datasets import make_classification\n",
    "from sklearn.model_selection import GridSearchCV, train_test_split\n",
    "from sklearn.ensemble import RandomForestClassifier\n",
    "from sklearn.svm import SVC\n",
    "\n",
    "X, y = make_classification(n_samples=800, n_features=15, random_state=2)\n",
    "X_train, X_test, y_train, y_test = train_test_split(X, y, test_size=0.25, random_state=2)"
   ]
  },
  {
   "cell_type": "markdown",
   "id": "3d1323ad",
   "metadata": {},
   "source": [
    "## ¿Qué es GridSearchCV?\n",
    "\n",
    "GridSearchCV realiza una búsqueda exhaustiva sobre una cuadrícula de hiperparámetros indicada por `param_grid`. Para cada combinación, realiza validación cruzada (parámetro `cv`) y devuelve el mejor conjunto según la métrica `scoring`.\n",
    "\n",
    "Puntos clave:\n",
    "- `cv`: número/estrategia de folds (usar `StratifiedKFold` para clasificación desbalanceada).\n",
    "- `scoring`: métrica única o un diccionario de métricas. Si pasas varias, usa `refit` para indicar cuál optimizar.\n",
    "- `n_jobs`: paraleliza el proceso.\n",
    "- `refit=True` (o nombre de métrica): reentrena el mejor modelo sobre todo el conjunto de entrenamiento con los hiperparámetros óptimos.\n",
    "\n",
    "Buenas prácticas:\n",
    "- Inserta `Pipeline` si necesitas preprocesado (evita fugas de información).\n",
    "- Para búsquedas grandes considera `RandomizedSearchCV`.\n",
    "- Para evaluar generalización de la selección de hiperparámetros usa `nested CV`."
   ]
  },
  {
   "cell_type": "markdown",
   "id": "94983af2",
   "metadata": {},
   "source": [
    "## Ejemplo: RandomForest\n",
    "Probamos `n_estimators` y `max_depth`."
   ]
  },
  {
   "cell_type": "code",
   "execution_count": 2,
   "id": "d7b2eb6a",
   "metadata": {},
   "outputs": [
    {
     "name": "stdout",
     "output_type": "stream",
     "text": [
      "Best params (RF): {'max_depth': 5, 'n_estimators': 50}\n",
      "Best score (RF): 0.9685629571917067\n",
      "\n",
      "Classification report (RF best on test):\n",
      "\n",
      "              precision    recall  f1-score   support\n",
      "\n",
      "           0       0.96      0.97      0.97       104\n",
      "           1       0.97      0.96      0.96        96\n",
      "\n",
      "    accuracy                           0.96       200\n",
      "   macro avg       0.97      0.96      0.96       200\n",
      "weighted avg       0.97      0.96      0.96       200\n",
      "\n",
      "\n",
      "Classification report (RF best on test):\n",
      "\n",
      "              precision    recall  f1-score   support\n",
      "\n",
      "           0       0.96      0.97      0.97       104\n",
      "           1       0.97      0.96      0.96        96\n",
      "\n",
      "    accuracy                           0.96       200\n",
      "   macro avg       0.97      0.96      0.96       200\n",
      "weighted avg       0.97      0.96      0.96       200\n",
      "\n"
     ]
    },
    {
     "data": {
      "image/png": "[encoded data removed]",
      "text/plain": [
       "<Figure size 500x400 with 2 Axes>"
      ]
     },
     "metadata": {},
     "output_type": "display_data"
    }
   ],
   "source": [
    "param_grid = {\n",
    "    'n_estimators': [50, 100],\n",
    "    'max_depth': [None, 5, 10]\n",
    "}\n",
    "\n",
    "grid_rf = GridSearchCV(RandomForestClassifier(random_state=2), param_grid, cv=4, scoring='f1', n_jobs=-1, refit=True)\n",
    "grid_rf.fit(X_train, y_train)\n",
    "print('Best params (RF):', grid_rf.best_params_)\n",
    "print('Best score (RF):', grid_rf.best_score_)\n",
    "\n",
    "# Matriz de confusión en test con el mejor estimador\n",
    "from sklearn.metrics import confusion_matrix, classification_report\n",
    "import seaborn as sns\n",
    "import matplotlib.pyplot as plt\n",
    "\n",
    "best_rf = grid_rf.best_estimator_\n",
    "y_pred_test = best_rf.predict(X_test)\n",
    "print('\\nClassification report (RF best on test):\\n')\n",
    "print(classification_report(y_test, y_pred_test))\n",
    "cm = confusion_matrix(y_test, y_pred_test)\n",
    "plt.figure(figsize=(5,4))\n",
    "sns.heatmap(cm, annot=True, fmt='d', cmap='Blues')\n",
    "plt.title('Confusion Matrix - RandomForest (best params)')\n",
    "plt.xlabel('Predicho')\n",
    "plt.ylabel('Real')\n",
    "plt.show()"
   ]
  },
  {
   "cell_type": "markdown",
   "id": "e5318cba",
   "metadata": {},
   "source": [
    "## Ejemplo: SVM\n",
    "Buscamos `C` y `kernel`."
   ]
  },
  {
   "cell_type": "code",
   "execution_count": 9,
   "id": "dc26301f",
   "metadata": {},
   "outputs": [
    {
     "name": "stdout",
     "output_type": "stream",
     "text": [
      "Mejor f1: 0.9651\n",
      "Mejor accuracy: 0.9650\n",
      "\n",
      "Mejor métrica global: f1\n",
      "Mejores parámetros según f1 : {'C': 1, 'kernel': 'linear'}\n",
      "\n",
      "Classification report (SVM best on test):\n",
      "\n",
      "              precision    recall  f1-score   support\n",
      "\n",
      "           0       0.95      0.97      0.96       104\n",
      "           1       0.97      0.95      0.96        96\n",
      "\n",
      "    accuracy                           0.96       200\n",
      "   macro avg       0.96      0.96      0.96       200\n",
      "weighted avg       0.96      0.96      0.96       200\n",
      "\n"
     ]
    },
    {
     "data": {
      "image/png": "[encoded data removed]",
      "text/plain": [
       "<Figure size 500x400 with 2 Axes>"
      ]
     },
     "metadata": {},
     "output_type": "display_data"
    }
   ],
   "source": [
    "from sklearn.model_selection import GridSearchCV\n",
    "from sklearn.svm import SVC\n",
    "from sklearn.metrics import classification_report, confusion_matrix\n",
    "import seaborn as sns\n",
    "import matplotlib.pyplot as plt\n",
    "\n",
    "param_grid_svm = {\"C\": [0.1, 1, 10], \"kernel\": [\"linear\", \"rbf\"]}\n",
    "\n",
    "scoring = {\"f1\": \"f1\", \"accuracy\": \"accuracy\"}\n",
    "\n",
    "# Ponemos refit=False, porque lo haremos manualmente\n",
    "grid_svm = GridSearchCV(\n",
    "    SVC(probability=True), param_grid_svm, cv=4, scoring=scoring, refit=False, n_jobs=-1\n",
    ")\n",
    "grid_svm.fit(X_train, y_train)\n",
    "\n",
    "best_metric = {}\n",
    "cv_results = grid_svm.cv_results_\n",
    "for metric in scoring.keys():\n",
    "    test_key = f\"mean_test_{metric}\"\n",
    "    best_metric[metric] = cv_results[test_key].max()\n",
    "    print(f\"Mejor {metric}: {cv_results[test_key].max():.4f}\")\n",
    "\n",
    "best_metric = max(best_metric, key=best_metric.get)\n",
    "print(f\"\\nMejor métrica global: {best_metric}\")\n",
    "\n",
    "best_index = cv_results[f\"rank_test_{best_metric}\"].argmin()\n",
    "best_params = cv_results[\"params\"][best_index]\n",
    "print(\"Mejores parámetros según\", best_metric, \":\", best_params)\n",
    "\n",
    "best_svm = SVC(probability=True, **best_params)\n",
    "best_svm.fit(X_train, y_train)\n",
    "\n",
    "y_pred_svm = best_svm.predict(X_test)\n",
    "print(\"\\nClassification report (SVM best on test):\\n\")\n",
    "print(classification_report(y_test, y_pred_svm))\n",
    "\n",
    "cm = confusion_matrix(y_test, y_pred_svm)\n",
    "plt.figure(figsize=(5, 4))\n",
    "sns.heatmap(cm, annot=True, fmt=\"d\", cmap=\"Oranges\")\n",
    "plt.title(f\"Confusion Matrix - SVM (refit={best_metric})\")\n",
    "plt.xlabel(\"Predicho\")\n",
    "plt.ylabel(\"Real\")\n",
    "plt.show()"
   ]
  }
 ],
 "metadata": {
  "kernelspec": {
   "display_name": "venv (3.11.4)",
   "language": "python",
   "name": "python3"
  },
  "language_info": {
   "codemirror_mode": {
    "name": "ipython",
    "version": 3
   },
   "file_extension": ".py",
   "mimetype": "text/x-python",
   "name": "python",
   "nbconvert_exporter": "python",
   "pygments_lexer": "ipython3",
   "version": "3.11.4"
  }
 },
 "nbformat": 4,
 "nbformat_minor": 5
}
