{
 "cells": [
  {
   "cell_type": "markdown",
   "id": "014bc93e",
   "metadata": {},
   "source": [
    "# Sesión 1 - Apartado 4: Ingeniería de características\n",
    "\n",
    "En este cuaderno aprenderemos a crear nuevas variables, transformar las existentes y aplicar técnicas de ingeniería de características para mejorar el rendimiento de los modelos."
   ]
  },
  {
   "cell_type": "markdown",
   "id": "c7beefb9",
   "metadata": {},
   "source": [
    "## 1. Motivación\n",
    "- La calidad de las características (features) suele ser más importante que el modelo en sí.\n",
    "- Una buena ingeniería de características puede transformar un dataset mediocre en uno útil."
   ]
  },
  {
   "cell_type": "code",
   "execution_count": null,
   "id": "31505d07",
   "metadata": {},
   "outputs": [],
   "source": [
    "import pandas as pd\n",
    "import numpy as np\n",
    "\n",
    "# Cargar dataset\n",
    "df = pd.read_csv('data/mini_titanic.csv')\n",
    "df.head()"
   ]
  },
  {
   "cell_type": "markdown",
   "id": "d47004ff",
   "metadata": {},
   "source": [
    "## 2. Transformaciones de variables numéricas"
   ]
  },
  {
   "cell_type": "code",
   "execution_count": null,
   "id": "3662fac7",
   "metadata": {},
   "outputs": [],
   "source": [
    "# Crear nuevas variables numéricas\n",
    "\n",
    "# Edad al cuadrado (ejemplo polinómico)\n",
    "df['Age2'] = df['Age']**2\n",
    "\n",
    "# Interacción entre Age y Fare\n",
    "df['Age_Fare'] = df['Age'] * df['Fare']\n",
    "\n",
    "# Normalización logarítmica (útil para distribuciones sesgadas)\n",
    "df['Fare_log'] = np.log1p(df['Fare'])\n",
    "\n",
    "df[['Age','Age2','Age_Fare','Fare','Fare_log']].head()"
   ]
  },
  {
   "cell_type": "markdown",
   "id": "cb8f5ff9",
   "metadata": {},
   "source": [
    "## 3. Transformaciones de variables categóricas"
   ]
  },
  {
   "cell_type": "code",
   "execution_count": null,
   "id": "47ebeeab",
   "metadata": {},
   "outputs": [],
   "source": [
    "# Crear nuevas variables categóricas\n",
    "\n",
    "# Longitud de nombre como proxy de estatus social\n",
    "df['Name_length'] = df['Name'].apply(len)\n",
    "\n",
    "# Inicial del pasajero (ejemplo de extracción de substring)\n",
    "df['Name_initial'] = df['Name'].str[0]\n",
    "\n",
    "df[['Name','Name_length','Name_initial']].head()"
   ]
  },
  {
   "cell_type": "markdown",
   "id": "64953ba0",
   "metadata": {},
   "source": [
    "## 4. Discretización (Binning)"
   ]
  },
  {
   "cell_type": "code",
   "execution_count": null,
   "id": "275c72d7",
   "metadata": {},
   "outputs": [],
   "source": [
    "# Discretizar la edad en categorías\n",
    "bins = [0, 12, 18, 30, 50, 80]\n",
    "labels = ['Niño','Adolescente','Joven','Adulto','Mayor']\n",
    "df['Age_group'] = pd.cut(df['Age'], bins=bins, labels=labels)\n",
    "df[['Age','Age_group']].head(10)"
   ]
  },
  {
   "cell_type": "markdown",
   "id": "3529a0be",
   "metadata": {},
   "source": [
    "## 5. Variables dummy adicionales"
   ]
  },
  {
   "cell_type": "code",
   "execution_count": null,
   "id": "742f90e9",
   "metadata": {},
   "outputs": [],
   "source": [
    "df = pd.get_dummies(df, columns=['Age_group'], drop_first=True)\n",
    "df.head()"
   ]
  },
  {
   "cell_type": "markdown",
   "id": "17af1692",
   "metadata": {},
   "source": [
    "## 6. Ejercicio práctico\n",
    "- Crea al menos **dos nuevas características** derivadas de las ya existentes.\n",
    "- Ejemplo: relación Fare/Edad, número de espacios en el nombre, indicador binario si el ticket empieza por una letra.\n",
    "\n",
    "👉 Intenta combinarlas luego en un pipeline en el siguiente apartado."
   ]
  }
 ],
 "metadata": {},
 "nbformat": 4,
 "nbformat_minor": 5
}
