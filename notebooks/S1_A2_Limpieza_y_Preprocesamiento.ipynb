{
 "cells": [
  {
   "cell_type": "markdown",
   "id": "fad9b480",
   "metadata": {},
   "source": [
    "# Sesión 1 – Apartado 2: Limpieza y preprocesamiento avanzado\n",
    "\n",
    "**Duración recomendada:** ~80 min\n",
    "\n",
    "**Objetivos:**\n",
    "- Identificar y tratar valores nulos.\n",
    "- Aplicar diferentes técnicas de imputación.\n",
    "- Codificar variables categóricas.\n",
    "- Escalar y normalizar variables numéricas.\n"
   ]
  },
  {
   "cell_type": "markdown",
   "id": "43eb0e32",
   "metadata": {},
   "source": [
    "## 1) Cargar el dataset sintético"
   ]
  },
  {
   "cell_type": "code",
   "execution_count": null,
   "id": "3d1ff615",
   "metadata": {},
   "outputs": [],
   "source": [
    "import pandas as pd\n",
    "df = pd.read_csv('data/mini_titanic.csv')\n",
    "df.head()"
   ]
  },
  {
   "cell_type": "markdown",
   "id": "e160a297",
   "metadata": {},
   "source": [
    "## 2) Identificación de valores nulos"
   ]
  },
  {
   "cell_type": "code",
   "execution_count": null,
   "id": "565160c5",
   "metadata": {},
   "outputs": [],
   "source": [
    "df.isna().sum().sort_values(ascending=False)"
   ]
  },
  {
   "cell_type": "markdown",
   "id": "95b5e9c3",
   "metadata": {},
   "source": [
    "## 3) Imputación de valores nulos\n",
    "\n",
    "Probamos varias estrategias de imputación:\n",
    "- Media (para variables numéricas)\n",
    "- Mediana\n",
    "- KNNImputer (más avanzado)\n"
   ]
  },
  {
   "cell_type": "code",
   "execution_count": null,
   "id": "3e1a95a5",
   "metadata": {},
   "outputs": [],
   "source": [
    "from sklearn.impute import SimpleImputer, KNNImputer\n",
    "import numpy as np\n",
    "\n",
    "# Imputación con media\n",
    "imputer_mean = SimpleImputer(strategy='mean')\n",
    "df['age_imputed'] = imputer_mean.fit_transform(df[['age']])\n",
    "\n",
    "# Imputación con mediana\n",
    "imputer_median = SimpleImputer(strategy='median')\n",
    "df['fare_imputed'] = imputer_median.fit_transform(df[['fare']])\n",
    "\n",
    "# KNNImputer en conjunto numérico\n",
    "num_cols = ['age', 'fare']\n",
    "knn_imputer = KNNImputer(n_neighbors=5)\n",
    "df_knn = pd.DataFrame(knn_imputer.fit_transform(df[num_cols]), columns=num_cols)\n",
    "df_knn.head()"
   ]
  },
  {
   "cell_type": "markdown",
   "id": "aec1b610",
   "metadata": {},
   "source": [
    "## 4) Codificación de variables categóricas"
   ]
  },
  {
   "cell_type": "code",
   "execution_count": null,
   "id": "52eb8b4e",
   "metadata": {},
   "outputs": [],
   "source": [
    "from sklearn.preprocessing import OneHotEncoder, OrdinalEncoder\n",
    "\n",
    "# OneHotEncoder en columna 'sex'\n",
    "encoder = OneHotEncoder(sparse=False, handle_unknown='ignore')\n",
    "sex_encoded = encoder.fit_transform(df[['sex']])\n",
    "sex_encoded[:5]"
   ]
  },
  {
   "cell_type": "code",
   "execution_count": null,
   "id": "b968c629",
   "metadata": {},
   "outputs": [],
   "source": [
    "# OrdinalEncoder en columna 'class'\n",
    "ord_enc = OrdinalEncoder()\n",
    "df['class_encoded'] = ord_enc.fit_transform(df[['class']])\n",
    "df[['class', 'class_encoded']].head()"
   ]
  },
  {
   "cell_type": "markdown",
   "id": "3094ccdd",
   "metadata": {},
   "source": [
    "## 5) Escalado y normalización"
   ]
  },
  {
   "cell_type": "code",
   "execution_count": null,
   "id": "8dcfd9be",
   "metadata": {},
   "outputs": [],
   "source": [
    "from sklearn.preprocessing import StandardScaler, MinMaxScaler, RobustScaler\n",
    "\n",
    "scaler_std = StandardScaler()\n",
    "scaler_minmax = MinMaxScaler()\n",
    "scaler_robust = RobustScaler()\n",
    "\n",
    "age_std = scaler_std.fit_transform(df[['age_imputed']])\n",
    "age_minmax = scaler_minmax.fit_transform(df[['age_imputed']])\n",
    "age_robust = scaler_robust.fit_transform(df[['age_imputed']])\n",
    "\n",
    "import matplotlib.pyplot as plt\n",
    "plt.figure(figsize=(10,4))\n",
    "plt.hist(age_std, bins=20, alpha=0.5, label='StandardScaler')\n",
    "plt.hist(age_minmax, bins=20, alpha=0.5, label='MinMaxScaler')\n",
    "plt.hist(age_robust, bins=20, alpha=0.5, label='RobustScaler')\n",
    "plt.legend()\n",
    "plt.title('Distribución de Edad con diferentes escalados')\n",
    "plt.show()"
   ]
  },
  {
   "cell_type": "markdown",
   "id": "3962f905",
   "metadata": {},
   "source": [
    "## 6) Ejercicios\n",
    "\n",
    "1. Imputa la columna `fare` usando KNNImputer y compárala con la imputación por mediana.\n",
    "2. Codifica la columna `class` usando OneHotEncoder en lugar de OrdinalEncoder. ¿Qué diferencias observas?\n",
    "3. Escala la variable `fare` con los tres métodos (Standard, MinMax, Robust) y grafica los histogramas.\n",
    "4. Discute: ¿qué método de imputación y escalado usarías para este dataset y por qué?\n"
   ]
  }
 ],
 "metadata": {},
 "nbformat": 4,
 "nbformat_minor": 5
}
