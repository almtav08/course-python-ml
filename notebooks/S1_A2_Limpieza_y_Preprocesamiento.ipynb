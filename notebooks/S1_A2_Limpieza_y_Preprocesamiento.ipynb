{
 "cells": [
  {
   "cell_type": "markdown",
   "id": "fad9b480",
   "metadata": {},
   "source": [
    "# Sesión 1 – Apartado 2: Limpieza y preprocesamiento avanzado\n",
    "\n",
    "**Duración recomendada:** ~80 min\n",
    "\n",
    "**Objetivos:**\n",
    "- Identificar y tratar valores nulos.\n",
    "- Aplicar diferentes técnicas de imputación.\n",
    "- Codificar variables categóricas.\n",
    "- Escalar y normalizar variables numéricas.\n"
   ]
  },
  {
   "cell_type": "markdown",
   "id": "43eb0e32",
   "metadata": {},
   "source": [
    "## 1) Cargar el dataset sintético"
   ]
  },
  {
   "cell_type": "code",
   "execution_count": 2,
   "id": "3d1ff615",
   "metadata": {},
   "outputs": [
    {
     "data": {
      "text/html": [
       "<div>\n",
       "<style scoped>\n",
       "    .dataframe tbody tr th:only-of-type {\n",
       "        vertical-align: middle;\n",
       "    }\n",
       "\n",
       "    .dataframe tbody tr th {\n",
       "        vertical-align: top;\n",
       "    }\n",
       "\n",
       "    .dataframe thead th {\n",
       "        text-align: right;\n",
       "    }\n",
       "</style>\n",
       "<table border=\"1\" class=\"dataframe\">\n",
       "  <thead>\n",
       "    <tr style=\"text-align: right;\">\n",
       "      <th></th>\n",
       "      <th>sex</th>\n",
       "      <th>class</th>\n",
       "      <th>age</th>\n",
       "      <th>fare</th>\n",
       "      <th>survived</th>\n",
       "    </tr>\n",
       "  </thead>\n",
       "  <tbody>\n",
       "    <tr>\n",
       "      <th>0</th>\n",
       "      <td>male</td>\n",
       "      <td>Third</td>\n",
       "      <td>34.352706</td>\n",
       "      <td>119.00</td>\n",
       "      <td>0</td>\n",
       "    </tr>\n",
       "    <tr>\n",
       "      <th>1</th>\n",
       "      <td>female</td>\n",
       "      <td>Second</td>\n",
       "      <td>50.654987</td>\n",
       "      <td>66.77</td>\n",
       "      <td>0</td>\n",
       "    </tr>\n",
       "    <tr>\n",
       "      <th>2</th>\n",
       "      <td>male</td>\n",
       "      <td>First</td>\n",
       "      <td>42.007235</td>\n",
       "      <td>21.87</td>\n",
       "      <td>0</td>\n",
       "    </tr>\n",
       "    <tr>\n",
       "      <th>3</th>\n",
       "      <td>male</td>\n",
       "      <td>Second</td>\n",
       "      <td>27.760861</td>\n",
       "      <td>NaN</td>\n",
       "      <td>0</td>\n",
       "    </tr>\n",
       "    <tr>\n",
       "      <th>4</th>\n",
       "      <td>male</td>\n",
       "      <td>Third</td>\n",
       "      <td>29.733773</td>\n",
       "      <td>212.45</td>\n",
       "      <td>0</td>\n",
       "    </tr>\n",
       "  </tbody>\n",
       "</table>\n",
       "</div>"
      ],
      "text/plain": [
       "      sex   class        age    fare  survived\n",
       "0    male   Third  34.352706  119.00         0\n",
       "1  female  Second  50.654987   66.77         0\n",
       "2    male   First  42.007235   21.87         0\n",
       "3    male  Second  27.760861     NaN         0\n",
       "4    male   Third  29.733773  212.45         0"
      ]
     },
     "execution_count": 2,
     "metadata": {},
     "output_type": "execute_result"
    }
   ],
   "source": [
    "import pandas as pd\n",
    "df = pd.read_csv('../data/raw/mini_titanic.csv')\n",
    "df.head()"
   ]
  },
  {
   "cell_type": "markdown",
   "id": "e160a297",
   "metadata": {},
   "source": [
    "## 2) Identificación de valores nulos"
   ]
  },
  {
   "cell_type": "code",
   "execution_count": 3,
   "id": "565160c5",
   "metadata": {},
   "outputs": [
    {
     "data": {
      "text/plain": [
       "age         35\n",
       "fare        20\n",
       "class       15\n",
       "sex          0\n",
       "survived     0\n",
       "dtype: int64"
      ]
     },
     "execution_count": 3,
     "metadata": {},
     "output_type": "execute_result"
    }
   ],
   "source": [
    "df.isna().sum().sort_values(ascending=False)"
   ]
  },
  {
   "cell_type": "markdown",
   "id": "95b5e9c3",
   "metadata": {},
   "source": [
    "## 3) Imputación de valores nulos\n",
    "\n",
    "Probamos varias estrategias de imputación:\n",
    "- Media (para variables numéricas)\n",
    "- Mediana\n",
    "- KNNImputer (más avanzado)\n"
   ]
  },
  {
   "cell_type": "code",
   "execution_count": 9,
   "id": "3e1a95a5",
   "metadata": {},
   "outputs": [],
   "source": [
    "from sklearn.impute import SimpleImputer, KNNImputer"
   ]
  },
  {
   "cell_type": "code",
   "execution_count": 6,
   "id": "534872fc",
   "metadata": {},
   "outputs": [
    {
     "data": {
      "text/html": [
       "<div>\n",
       "<style scoped>\n",
       "    .dataframe tbody tr th:only-of-type {\n",
       "        vertical-align: middle;\n",
       "    }\n",
       "\n",
       "    .dataframe tbody tr th {\n",
       "        vertical-align: top;\n",
       "    }\n",
       "\n",
       "    .dataframe thead th {\n",
       "        text-align: right;\n",
       "    }\n",
       "</style>\n",
       "<table border=\"1\" class=\"dataframe\">\n",
       "  <thead>\n",
       "    <tr style=\"text-align: right;\">\n",
       "      <th></th>\n",
       "      <th>sex</th>\n",
       "      <th>class</th>\n",
       "      <th>age</th>\n",
       "      <th>fare</th>\n",
       "      <th>survived</th>\n",
       "      <th>age_imputed</th>\n",
       "      <th>fare_imputed</th>\n",
       "    </tr>\n",
       "  </thead>\n",
       "  <tbody>\n",
       "    <tr>\n",
       "      <th>12</th>\n",
       "      <td>male</td>\n",
       "      <td>Third</td>\n",
       "      <td>NaN</td>\n",
       "      <td>26.41</td>\n",
       "      <td>0</td>\n",
       "      <td>29.755908</td>\n",
       "      <td>26.41</td>\n",
       "    </tr>\n",
       "    <tr>\n",
       "      <th>15</th>\n",
       "      <td>male</td>\n",
       "      <td>Third</td>\n",
       "      <td>NaN</td>\n",
       "      <td>29.52</td>\n",
       "      <td>0</td>\n",
       "      <td>29.755908</td>\n",
       "      <td>29.52</td>\n",
       "    </tr>\n",
       "    <tr>\n",
       "      <th>18</th>\n",
       "      <td>female</td>\n",
       "      <td>First</td>\n",
       "      <td>NaN</td>\n",
       "      <td>3.25</td>\n",
       "      <td>1</td>\n",
       "      <td>29.755908</td>\n",
       "      <td>3.25</td>\n",
       "    </tr>\n",
       "    <tr>\n",
       "      <th>29</th>\n",
       "      <td>female</td>\n",
       "      <td>First</td>\n",
       "      <td>NaN</td>\n",
       "      <td>74.98</td>\n",
       "      <td>1</td>\n",
       "      <td>29.755908</td>\n",
       "      <td>74.98</td>\n",
       "    </tr>\n",
       "    <tr>\n",
       "      <th>47</th>\n",
       "      <td>male</td>\n",
       "      <td>Third</td>\n",
       "      <td>NaN</td>\n",
       "      <td>9.97</td>\n",
       "      <td>0</td>\n",
       "      <td>29.755908</td>\n",
       "      <td>9.97</td>\n",
       "    </tr>\n",
       "  </tbody>\n",
       "</table>\n",
       "</div>"
      ],
      "text/plain": [
       "       sex  class  age   fare  survived  age_imputed  fare_imputed\n",
       "12    male  Third  NaN  26.41         0    29.755908         26.41\n",
       "15    male  Third  NaN  29.52         0    29.755908         29.52\n",
       "18  female  First  NaN   3.25         1    29.755908          3.25\n",
       "29  female  First  NaN  74.98         1    29.755908         74.98\n",
       "47    male  Third  NaN   9.97         0    29.755908          9.97"
      ]
     },
     "execution_count": 6,
     "metadata": {},
     "output_type": "execute_result"
    }
   ],
   "source": [
    "# Imputación con media\n",
    "imputer_mean = SimpleImputer(strategy=\"mean\")\n",
    "df[\"age_imputed\"] = imputer_mean.fit_transform(df[[\"age\"]])\n",
    "\n",
    "df[df['age'].isna()].head()"
   ]
  },
  {
   "cell_type": "code",
   "execution_count": 7,
   "id": "cea40cec",
   "metadata": {},
   "outputs": [
    {
     "data": {
      "text/html": [
       "<div>\n",
       "<style scoped>\n",
       "    .dataframe tbody tr th:only-of-type {\n",
       "        vertical-align: middle;\n",
       "    }\n",
       "\n",
       "    .dataframe tbody tr th {\n",
       "        vertical-align: top;\n",
       "    }\n",
       "\n",
       "    .dataframe thead th {\n",
       "        text-align: right;\n",
       "    }\n",
       "</style>\n",
       "<table border=\"1\" class=\"dataframe\">\n",
       "  <thead>\n",
       "    <tr style=\"text-align: right;\">\n",
       "      <th></th>\n",
       "      <th>sex</th>\n",
       "      <th>class</th>\n",
       "      <th>age</th>\n",
       "      <th>fare</th>\n",
       "      <th>survived</th>\n",
       "      <th>age_imputed</th>\n",
       "      <th>fare_imputed</th>\n",
       "    </tr>\n",
       "  </thead>\n",
       "  <tbody>\n",
       "    <tr>\n",
       "      <th>3</th>\n",
       "      <td>male</td>\n",
       "      <td>Second</td>\n",
       "      <td>27.760861</td>\n",
       "      <td>NaN</td>\n",
       "      <td>0</td>\n",
       "      <td>27.760861</td>\n",
       "      <td>29.12</td>\n",
       "    </tr>\n",
       "    <tr>\n",
       "      <th>13</th>\n",
       "      <td>male</td>\n",
       "      <td>Third</td>\n",
       "      <td>35.623964</td>\n",
       "      <td>NaN</td>\n",
       "      <td>0</td>\n",
       "      <td>35.623964</td>\n",
       "      <td>29.12</td>\n",
       "    </tr>\n",
       "    <tr>\n",
       "      <th>19</th>\n",
       "      <td>male</td>\n",
       "      <td>Third</td>\n",
       "      <td>19.177863</td>\n",
       "      <td>NaN</td>\n",
       "      <td>0</td>\n",
       "      <td>19.177863</td>\n",
       "      <td>29.12</td>\n",
       "    </tr>\n",
       "    <tr>\n",
       "      <th>44</th>\n",
       "      <td>female</td>\n",
       "      <td>Second</td>\n",
       "      <td>46.512162</td>\n",
       "      <td>NaN</td>\n",
       "      <td>1</td>\n",
       "      <td>46.512162</td>\n",
       "      <td>29.12</td>\n",
       "    </tr>\n",
       "    <tr>\n",
       "      <th>57</th>\n",
       "      <td>male</td>\n",
       "      <td>Third</td>\n",
       "      <td>28.006687</td>\n",
       "      <td>NaN</td>\n",
       "      <td>0</td>\n",
       "      <td>28.006687</td>\n",
       "      <td>29.12</td>\n",
       "    </tr>\n",
       "  </tbody>\n",
       "</table>\n",
       "</div>"
      ],
      "text/plain": [
       "       sex   class        age  fare  survived  age_imputed  fare_imputed\n",
       "3     male  Second  27.760861   NaN         0    27.760861         29.12\n",
       "13    male   Third  35.623964   NaN         0    35.623964         29.12\n",
       "19    male   Third  19.177863   NaN         0    19.177863         29.12\n",
       "44  female  Second  46.512162   NaN         1    46.512162         29.12\n",
       "57    male   Third  28.006687   NaN         0    28.006687         29.12"
      ]
     },
     "execution_count": 7,
     "metadata": {},
     "output_type": "execute_result"
    }
   ],
   "source": [
    "# Imputación con mediana\n",
    "imputer_median = SimpleImputer(strategy=\"median\")\n",
    "df[\"fare_imputed\"] = imputer_median.fit_transform(df[[\"fare\"]])\n",
    "\n",
    "df[df[\"fare\"].isna()].head()"
   ]
  },
  {
   "cell_type": "code",
   "execution_count": 8,
   "id": "c0308a56",
   "metadata": {},
   "outputs": [
    {
     "data": {
      "text/html": [
       "<div>\n",
       "<style scoped>\n",
       "    .dataframe tbody tr th:only-of-type {\n",
       "        vertical-align: middle;\n",
       "    }\n",
       "\n",
       "    .dataframe tbody tr th {\n",
       "        vertical-align: top;\n",
       "    }\n",
       "\n",
       "    .dataframe thead th {\n",
       "        text-align: right;\n",
       "    }\n",
       "</style>\n",
       "<table border=\"1\" class=\"dataframe\">\n",
       "  <thead>\n",
       "    <tr style=\"text-align: right;\">\n",
       "      <th></th>\n",
       "      <th>age</th>\n",
       "      <th>fare</th>\n",
       "    </tr>\n",
       "  </thead>\n",
       "  <tbody>\n",
       "    <tr>\n",
       "      <th>0</th>\n",
       "      <td>34.352706</td>\n",
       "      <td>119.000</td>\n",
       "    </tr>\n",
       "    <tr>\n",
       "      <th>1</th>\n",
       "      <td>50.654987</td>\n",
       "      <td>66.770</td>\n",
       "    </tr>\n",
       "    <tr>\n",
       "      <th>2</th>\n",
       "      <td>42.007235</td>\n",
       "      <td>21.870</td>\n",
       "    </tr>\n",
       "    <tr>\n",
       "      <th>3</th>\n",
       "      <td>27.760861</td>\n",
       "      <td>28.116</td>\n",
       "    </tr>\n",
       "    <tr>\n",
       "      <th>4</th>\n",
       "      <td>29.733773</td>\n",
       "      <td>212.450</td>\n",
       "    </tr>\n",
       "  </tbody>\n",
       "</table>\n",
       "</div>"
      ],
      "text/plain": [
       "         age     fare\n",
       "0  34.352706  119.000\n",
       "1  50.654987   66.770\n",
       "2  42.007235   21.870\n",
       "3  27.760861   28.116\n",
       "4  29.733773  212.450"
      ]
     },
     "execution_count": 8,
     "metadata": {},
     "output_type": "execute_result"
    }
   ],
   "source": [
    "# KNNImputer en conjunto numérico\n",
    "num_cols = [\"age\", \"fare\"]\n",
    "knn_imputer = KNNImputer(n_neighbors=5)\n",
    "df_knn = pd.DataFrame(knn_imputer.fit_transform(df[num_cols]), columns=num_cols)\n",
    "df_knn.head()"
   ]
  },
  {
   "cell_type": "markdown",
   "id": "aec1b610",
   "metadata": {},
   "source": [
    "## 4) Codificación de variables categóricas"
   ]
  },
  {
   "cell_type": "code",
   "execution_count": 11,
   "id": "52eb8b4e",
   "metadata": {},
   "outputs": [
    {
     "data": {
      "text/plain": [
       "array([[0., 1.],\n",
       "       [1., 0.],\n",
       "       [0., 1.],\n",
       "       [0., 1.],\n",
       "       [0., 1.]])"
      ]
     },
     "execution_count": 11,
     "metadata": {},
     "output_type": "execute_result"
    }
   ],
   "source": [
    "from sklearn.preprocessing import OneHotEncoder, OrdinalEncoder\n",
    "\n",
    "# OneHotEncoder en columna 'sex'\n",
    "encoder = OneHotEncoder(sparse_output=False, handle_unknown=\"ignore\")\n",
    "sex_encoded = encoder.fit_transform(df[['sex']])\n",
    "sex_encoded[:5]"
   ]
  },
  {
   "cell_type": "code",
   "execution_count": 12,
   "id": "b968c629",
   "metadata": {},
   "outputs": [
    {
     "data": {
      "text/html": [
       "<div>\n",
       "<style scoped>\n",
       "    .dataframe tbody tr th:only-of-type {\n",
       "        vertical-align: middle;\n",
       "    }\n",
       "\n",
       "    .dataframe tbody tr th {\n",
       "        vertical-align: top;\n",
       "    }\n",
       "\n",
       "    .dataframe thead th {\n",
       "        text-align: right;\n",
       "    }\n",
       "</style>\n",
       "<table border=\"1\" class=\"dataframe\">\n",
       "  <thead>\n",
       "    <tr style=\"text-align: right;\">\n",
       "      <th></th>\n",
       "      <th>class</th>\n",
       "      <th>class_encoded</th>\n",
       "    </tr>\n",
       "  </thead>\n",
       "  <tbody>\n",
       "    <tr>\n",
       "      <th>0</th>\n",
       "      <td>Third</td>\n",
       "      <td>2.0</td>\n",
       "    </tr>\n",
       "    <tr>\n",
       "      <th>1</th>\n",
       "      <td>Second</td>\n",
       "      <td>1.0</td>\n",
       "    </tr>\n",
       "    <tr>\n",
       "      <th>2</th>\n",
       "      <td>First</td>\n",
       "      <td>0.0</td>\n",
       "    </tr>\n",
       "    <tr>\n",
       "      <th>3</th>\n",
       "      <td>Second</td>\n",
       "      <td>1.0</td>\n",
       "    </tr>\n",
       "    <tr>\n",
       "      <th>4</th>\n",
       "      <td>Third</td>\n",
       "      <td>2.0</td>\n",
       "    </tr>\n",
       "  </tbody>\n",
       "</table>\n",
       "</div>"
      ],
      "text/plain": [
       "    class  class_encoded\n",
       "0   Third            2.0\n",
       "1  Second            1.0\n",
       "2   First            0.0\n",
       "3  Second            1.0\n",
       "4   Third            2.0"
      ]
     },
     "execution_count": 12,
     "metadata": {},
     "output_type": "execute_result"
    }
   ],
   "source": [
    "# OrdinalEncoder en columna 'class'\n",
    "ord_enc = OrdinalEncoder()\n",
    "df['class_encoded'] = ord_enc.fit_transform(df[['class']])\n",
    "df[['class', 'class_encoded']].head()"
   ]
  },
  {
   "cell_type": "markdown",
   "id": "3094ccdd",
   "metadata": {},
   "source": [
    "## 5) Escalado y normalización"
   ]
  },
  {
   "cell_type": "code",
   "execution_count": 13,
   "id": "8dcfd9be",
   "metadata": {},
   "outputs": [
    {
     "data": {
      "image/png": "[encoded data removed]",
      "text/plain": [
       "<Figure size 1000x400 with 1 Axes>"
      ]
     },
     "metadata": {},
     "output_type": "display_data"
    }
   ],
   "source": [
    "from sklearn.preprocessing import StandardScaler, MinMaxScaler, RobustScaler\n",
    "\n",
    "scaler_std = StandardScaler()\n",
    "scaler_minmax = MinMaxScaler()\n",
    "scaler_robust = RobustScaler()\n",
    "\n",
    "age_std = scaler_std.fit_transform(df[['age_imputed']])\n",
    "age_minmax = scaler_minmax.fit_transform(df[['age_imputed']])\n",
    "age_robust = scaler_robust.fit_transform(df[['age_imputed']])\n",
    "\n",
    "import matplotlib.pyplot as plt\n",
    "plt.figure(figsize=(10,4))\n",
    "plt.hist(age_std, bins=20, alpha=0.5, label='StandardScaler')\n",
    "plt.hist(age_minmax, bins=20, alpha=0.5, label='MinMaxScaler')\n",
    "plt.hist(age_robust, bins=20, alpha=0.5, label='RobustScaler')\n",
    "plt.legend()\n",
    "plt.title('Distribución de Edad con diferentes escalados')\n",
    "plt.show()"
   ]
  }
 ],
 "metadata": {
  "kernelspec": {
   "display_name": "venv",
   "language": "python",
   "name": "python3"
  },
  "language_info": {
   "codemirror_mode": {
    "name": "ipython",
    "version": 3
   },
   "file_extension": ".py",
   "mimetype": "text/x-python",
   "name": "python",
   "nbconvert_exporter": "python",
   "pygments_lexer": "ipython3",
   "version": "3.11.13"
  }
 },
 "nbformat": 4,
 "nbformat_minor": 5
}
