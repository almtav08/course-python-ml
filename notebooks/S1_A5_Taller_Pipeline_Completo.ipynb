{
 "cells": [
  {
   "cell_type": "markdown",
   "id": "7dfd29d3",
   "metadata": {},
   "source": [
    "# Sesión 1 - Apartado 5: Taller completo\n",
    "\n",
    "En este taller aplicaremos todo lo aprendido hasta ahora:\n",
    "\n",
    "- Limpieza de datos.\n",
    "- Preprocesamiento de variables numéricas y categóricas.\n",
    "- Ingeniería de características.\n",
    "- Construcción de un pipeline completo.\n",
    "- Evaluación inicial del modelo.\n"
   ]
  },
  {
   "cell_type": "markdown",
   "id": "5b998c93",
   "metadata": {},
   "source": [
    "## 1. Carga de datos"
   ]
  },
  {
   "cell_type": "code",
   "execution_count": null,
   "id": "a350d65a",
   "metadata": {},
   "outputs": [],
   "source": [
    "import pandas as pd\n",
    "import numpy as np\n",
    "\n",
    "# Dataset\n",
    "df = pd.read_csv('data/mini_titanic.csv')\n",
    "df.head()"
   ]
  },
  {
   "cell_type": "markdown",
   "id": "dd85a9d3",
   "metadata": {},
   "source": [
    "## 2. Preparación del dataset\n",
    "- Eliminamos columnas poco útiles (ej: PassengerId).\n",
    "- Separamos variables predictoras y target."
   ]
  },
  {
   "cell_type": "code",
   "execution_count": null,
   "id": "320f4001",
   "metadata": {},
   "outputs": [],
   "source": [
    "X = df.drop(columns=['Survived','PassengerId'])\n",
    "y = df['Survived']\n",
    "X.head()"
   ]
  },
  {
   "cell_type": "markdown",
   "id": "3dbecabc",
   "metadata": {},
   "source": [
    "## 3. Ingeniería de características personalizada"
   ]
  },
  {
   "cell_type": "code",
   "execution_count": null,
   "id": "dba6ace7",
   "metadata": {},
   "outputs": [],
   "source": [
    "from sklearn.base import BaseEstimator, TransformerMixin\n",
    "\n",
    "class FeatureEngineer(BaseEstimator, TransformerMixin):\n",
    "    def fit(self, X, y=None):\n",
    "        return self\n",
    "    \n",
    "    def transform(self, X):\n",
    "        X_ = X.copy()\n",
    "        # Feature: longitud del nombre\n",
    "        X_['Name_length'] = X_['Name'].apply(len)\n",
    "        # Feature: inicial del nombre\n",
    "        X_['Name_initial'] = X_['Name'].str[0]\n",
    "        # Feature: interacción Edad * Tarifa\n",
    "        X_['Age_Fare'] = X_['Age'] * X_['Fare']\n",
    "        return X_"
   ]
  },
  {
   "cell_type": "markdown",
   "id": "72888dd3",
   "metadata": {},
   "source": [
    "## 4. Construcción del pipeline\n",
    "Incluiremos:\n",
    "- Imputación de nulos.\n",
    "- Escalado de numéricas.\n",
    "- Codificación de categóricas.\n",
    "- Ingeniería de características.\n",
    "- Modelo final."
   ]
  },
  {
   "cell_type": "code",
   "execution_count": null,
   "id": "a90a7726",
   "metadata": {},
   "outputs": [],
   "source": [
    "from sklearn.pipeline import Pipeline\n",
    "from sklearn.compose import ColumnTransformer\n",
    "from sklearn.impute import SimpleImputer\n",
    "from sklearn.preprocessing import StandardScaler, OneHotEncoder\n",
    "from sklearn.linear_model import LogisticRegression\n",
    "\n",
    "# Columnas por tipo\n",
    "num_cols = ['Age','Fare']\n",
    "cat_cols = ['Sex','Embarked','Name_initial']\n",
    "\n",
    "# Preprocesamiento numérico\n",
    "num_transformer = Pipeline(steps=[\n",
    "    ('imputer', SimpleImputer(strategy='median')),\n",
    "    ('scaler', StandardScaler())\n",
    "])\n",
    "\n",
    "# Preprocesamiento categórico\n",
    "cat_transformer = Pipeline(steps=[\n",
    "    ('imputer', SimpleImputer(strategy='most_frequent')),\n",
    "    ('onehot', OneHotEncoder(handle_unknown='ignore'))\n",
    "])\n",
    "\n",
    "# ColumnTransformer\n",
    "preprocessor = ColumnTransformer(\n",
    "    transformers=[\n",
    "        ('num', num_transformer, num_cols),\n",
    "        ('cat', cat_transformer, cat_cols)\n",
    "    ])\n",
    "\n",
    "# Pipeline completo\n",
    "pipe = Pipeline(steps=[\n",
    "    ('features', FeatureEngineer()),\n",
    "    ('preprocessor', preprocessor),\n",
    "    ('model', LogisticRegression(max_iter=1000))\n",
    "])"
   ]
  },
  {
   "cell_type": "markdown",
   "id": "9503ada3",
   "metadata": {},
   "source": [
    "## 5. Evaluación con conjunto de prueba"
   ]
  },
  {
   "cell_type": "code",
   "execution_count": null,
   "id": "2996d097",
   "metadata": {},
   "outputs": [],
   "source": [
    "from sklearn.model_selection import train_test_split\n",
    "\n",
    "X_train, X_test, y_train, y_test = train_test_split(X, y, test_size=0.2, random_state=42)\n",
    "\n",
    "pipe.fit(X_train, y_train)\n",
    "print(\"Score en test:\", pipe.score(X_test, y_test))"
   ]
  },
  {
   "cell_type": "markdown",
   "id": "8f34cd89",
   "metadata": {},
   "source": [
    "## 6. Ejercicio final\n",
    "👉 Extiende este pipeline probando:\n",
    "- Otro modelo (ej: RandomForestClassifier).\n",
    "- Nuevas features (ej: binning de edad).\n",
    "- Métricas adicionales (ej: f1-score)."
   ]
  }
 ],
 "metadata": {},
 "nbformat": 4,
 "nbformat_minor": 5
}
